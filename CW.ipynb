{
 "cells": [
  {
   "cell_type": "code",
   "execution_count": 18,
   "metadata": {
    "collapsed": true
   },
   "outputs": [],
   "source": [
    "from collections import namedtuple"
   ]
  },
  {
   "cell_type": "code",
   "execution_count": 118,
   "metadata": {
    "collapsed": false
   },
   "outputs": [],
   "source": [
    "class System:\n",
    "    _k1 = 1.34\n",
    "    _k2 = 1.6E9\n",
    "    _k3 = 8000\n",
    "    _k4 = 4E7\n",
    "    _k5 = 0.5\n",
    "    _f = 1.45\n",
    "    _a = 0.06\n",
    "    F = namedtuple('F' , 'x y z') \n",
    "    \n",
    "    def F_init(self,x,y,z):\n",
    "        #dX/dt\n",
    "        self.F.x = self._k1*self._a*y-self._k2*x*y+self._k3*self._a*x-2*self._k4*x**2\n",
    "        #dY/dt\n",
    "        self.F.y = -self._k1*self._a*y-self._k2*x*y+self._f*self._k5*z\n",
    "        #dZ/dt\n",
    "        self.F.z = self._k3*self._a*x-self._k5*z\n",
    "        \n",
    "    def F_derivative_init(self,x,y,z):\n",
    "        F_derivative = [\n",
    "            [-self._k2*y+self._k3*self._a-4*self._k4*x,self._k1*self._a-self._k2*x, 0],\n",
    "            [-self._k2*y, -self._k1*self._a-self._k2*x, self._f*self._k5],\n",
    "            [self._a*self._k3, 0, -self._k5]\n",
    "                            ]\n",
    "        return F_derivative\n",
    "    \n",
    "    def Gauss(self,matrix, dim):\n",
    "        x = [0 for i in range(dim)]\n",
    "        for j in range(dim):\n",
    "            \n",
    "            ind = j\n",
    "            maximum = matrix[j][j]\n",
    "            for i in range(j+1,dim):\n",
    "                if (matrix[i][j] > maximum):\n",
    "                    maximum = matrix[i][j]\n",
    "                    ind = i\n",
    "            matrix[ind],matrix[j]=matrix[j],matrix[ind]\n",
    "            \n",
    "            for i in range (j+1,dim):\n",
    "                d = -matrix[i][j]/matrix[j][j]\n",
    "                for j1 in range(dim+1):\n",
    "                    matrix[i][j1]+=matrix[j][j1]*d\n",
    "                    \n",
    "        for i in reversed(range(dim)):\n",
    "            summ = matrix[i][dim]\n",
    "            for j in reversed(range(dim)):\n",
    "                summ-=matrix[i][j]*x[j]\n",
    "            x[i] = summ/matrix[i][i]\n",
    "        return x\n",
    "    \n",
    "    def Newthon(self,x,y,z): \n",
    "        der = self.F_derivative_init(x,y,z)\n",
    "        der[0].append(-self.F.x)\n",
    "        der[1].append(-self.F.y)\n",
    "        der[2].append(-self.F.z)\n",
    "        #print(der)\n",
    "        x0 = self.Gauss(der,len(der))\n",
    "    def __init__(self,x,y,z):\n",
    "        self.F_init(x,y,z)\n",
    "        self.F_derivative_init(x,y,z)"
   ]
  },
  {
   "cell_type": "code",
   "execution_count": 119,
   "metadata": {
    "collapsed": false
   },
   "outputs": [
    {
     "name": "stdout",
     "output_type": "stream",
     "text": [
      "[-0.5000006739940908, -0.9999984345623615, 476.99935296567287]\n"
     ]
    }
   ],
   "source": [
    "d = System(1,2,3)\n",
    "d.Newthon(1,2,3)"
   ]
  },
  {
   "cell_type": "code",
   "execution_count": 81,
   "metadata": {
    "collapsed": false
   },
   "outputs": [
    {
     "data": {
      "text/plain": [
       "40000000.0"
      ]
     },
     "execution_count": 81,
     "metadata": {},
     "output_type": "execute_result"
    }
   ],
   "source": []
  },
  {
   "cell_type": "code",
   "execution_count": null,
   "metadata": {
    "collapsed": true
   },
   "outputs": [],
   "source": []
  },
  {
   "cell_type": "code",
   "execution_count": null,
   "metadata": {
    "collapsed": true
   },
   "outputs": [],
   "source": []
  },
  {
   "cell_type": "code",
   "execution_count": null,
   "metadata": {
    "collapsed": true
   },
   "outputs": [],
   "source": []
  },
  {
   "cell_type": "code",
   "execution_count": 78,
   "metadata": {
    "collapsed": false
   },
   "outputs": [
    {
     "name": "stdout",
     "output_type": "stream",
     "text": [
      "9\n",
      "8\n",
      "7\n",
      "6\n",
      "5\n",
      "4\n",
      "3\n",
      "2\n",
      "1\n",
      "0\n"
     ]
    }
   ],
   "source": [
    "for i in reversed(range(10)):\n",
    "    print(i)"
   ]
  },
  {
   "cell_type": "code",
   "execution_count": 74,
   "metadata": {
    "collapsed": false
   },
   "outputs": [
    {
     "data": {
      "text/plain": [
       "[[0, 0, 0], [0, 0, 0], [2, 2, 2], [3, 3, 3]]"
      ]
     },
     "execution_count": 74,
     "metadata": {},
     "output_type": "execute_result"
    }
   ],
   "source": [
    "a"
   ]
  },
  {
   "cell_type": "code",
   "execution_count": 75,
   "metadata": {
    "collapsed": false
   },
   "outputs": [],
   "source": [
    "a[2],a[3]=a[3],a[2]"
   ]
  },
  {
   "cell_type": "code",
   "execution_count": 76,
   "metadata": {
    "collapsed": false
   },
   "outputs": [
    {
     "data": {
      "text/plain": [
       "[[0, 0, 0], [0, 0, 0], [3, 3, 3], [2, 2, 2]]"
      ]
     },
     "execution_count": 76,
     "metadata": {},
     "output_type": "execute_result"
    }
   ],
   "source": [
    "a"
   ]
  },
  {
   "cell_type": "code",
   "execution_count": null,
   "metadata": {
    "collapsed": true
   },
   "outputs": [],
   "source": []
  }
 ],
 "metadata": {
  "kernelspec": {
   "display_name": "Python 3",
   "language": "python",
   "name": "python3"
  },
  "language_info": {
   "codemirror_mode": {
    "name": "ipython",
    "version": 3
   },
   "file_extension": ".py",
   "mimetype": "text/x-python",
   "name": "python",
   "nbconvert_exporter": "python",
   "pygments_lexer": "ipython3",
   "version": "3.6.0"
  }
 },
 "nbformat": 4,
 "nbformat_minor": 2
}
